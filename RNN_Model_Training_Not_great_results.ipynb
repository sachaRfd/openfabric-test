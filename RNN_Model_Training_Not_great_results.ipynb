{
  "nbformat": 4,
  "nbformat_minor": 0,
  "metadata": {
    "colab": {
      "provenance": [],
      "mount_file_id": "14cuBMEcPQcCaHuJYBDvrcNAQrrA2utuD",
      "authorship_tag": "ABX9TyMF6UxsmB6Nkrx1iAbm1crp",
      "include_colab_link": true
    },
    "kernelspec": {
      "name": "python3",
      "display_name": "Python 3"
    },
    "language_info": {
      "name": "python"
    }
  },
  "cells": [
    {
      "cell_type": "markdown",
      "metadata": {
        "id": "view-in-github",
        "colab_type": "text"
      },
      "source": [
        "<a href=\"https://colab.research.google.com/github/sachaRfd/openfabric-test/blob/main/RNN_Model_Training_Not_great_results.ipynb\" target=\"_parent\"><img src=\"https://colab.research.google.com/assets/colab-badge.svg\" alt=\"Open In Colab\"/></a>"
      ]
    },
    {
      "cell_type": "code",
      "source": [
        "from google.colab import drive\n",
        "drive.mount('/content/drive')"
      ],
      "metadata": {
        "colab": {
          "base_uri": "https://localhost:8080/"
        },
        "id": "T_c1lLSdhggC",
        "outputId": "e708c72b-885f-43b2-de81-135967dc7df3"
      },
      "execution_count": null,
      "outputs": [
        {
          "output_type": "stream",
          "name": "stdout",
          "text": [
            "Drive already mounted at /content/drive; to attempt to forcibly remount, call drive.mount(\"/content/drive\", force_remount=True).\n"
          ]
        }
      ]
    },
    {
      "cell_type": "code",
      "execution_count": null,
      "metadata": {
        "colab": {
          "base_uri": "https://localhost:8080/"
        },
        "id": "jb-VK80xgHvF",
        "outputId": "59945c4c-896c-47ce-fc8e-ed415e64cae5"
      },
      "outputs": [
        {
          "output_type": "stream",
          "name": "stdout",
          "text": [
            "Looking in indexes: https://pypi.org/simple, https://us-python.pkg.dev/colab-wheels/public/simple/\n",
            "Requirement already satisfied: nltk in /usr/local/lib/python3.8/dist-packages (3.7)\n",
            "Requirement already satisfied: joblib in /usr/local/lib/python3.8/dist-packages (from nltk) (1.2.0)\n",
            "Requirement already satisfied: regex>=2021.8.3 in /usr/local/lib/python3.8/dist-packages (from nltk) (2022.6.2)\n",
            "Requirement already satisfied: tqdm in /usr/local/lib/python3.8/dist-packages (from nltk) (4.64.1)\n",
            "Requirement already satisfied: click in /usr/local/lib/python3.8/dist-packages (from nltk) (7.1.2)\n"
          ]
        },
        {
          "output_type": "stream",
          "name": "stderr",
          "text": [
            "[nltk_data] Downloading package punkt to /root/nltk_data...\n",
            "[nltk_data]   Unzipping tokenizers/punkt.zip.\n",
            "[nltk_data] Downloading package stopwords to /root/nltk_data...\n",
            "[nltk_data]   Unzipping corpora/stopwords.zip.\n",
            ".vector_cache/glove.6B.zip: 862MB [02:40, 5.38MB/s]                           \n",
            "100%|█████████▉| 19999/20000 [00:01<00:00, 18486.11it/s]\n"
          ]
        }
      ],
      "source": [
        "# Installs and Imports:\n",
        "\n",
        "!pip install nltk\n",
        "import nltk\n",
        "nltk.download('punkt')\n",
        "nltk.download('stopwords')\n",
        "\n",
        "import numpy as np\n",
        "import pandas as pd\n",
        "\n",
        "import torch\n",
        "\n",
        "device = torch.device('cuda' if torch.cuda.is_available() else 'cpu')\n",
        "device\n",
        "\n",
        "\n",
        "# Import GloVe Vectors: \n",
        "from torchtext.vocab import GloVe\n",
        "\n",
        "glove = GloVe(dim='50', name='6B', max_vectors=20000)"
      ]
    },
    {
      "cell_type": "code",
      "source": [
        "import torch.nn as nn\n",
        "import torch\n",
        "import torch.nn.functional as F\n",
        "import math,copy,re\n",
        "import warnings\n",
        "# import pandas as pd\n",
        "import seaborn as sns\n",
        "import torchtext\n",
        "import matplotlib.pyplot as plt\n",
        "# warnings.simplefilter(\"ignore\")\n",
        "print(torch.__version__)\n"
      ],
      "metadata": {
        "colab": {
          "base_uri": "https://localhost:8080/"
        },
        "id": "Yr11ib8nkVs8",
        "outputId": "836fb1a9-1b45-4d81-bb29-bd9e34077439"
      },
      "execution_count": null,
      "outputs": [
        {
          "output_type": "stream",
          "name": "stdout",
          "text": [
            "1.13.1+cu116\n"
          ]
        }
      ]
    },
    {
      "cell_type": "markdown",
      "source": [
        "Setting Up the dataset: "
      ],
      "metadata": {
        "id": "BTBwdEQEha9Z"
      }
    },
    {
      "cell_type": "code",
      "source": [
        "MAX_LEN = 200\n",
        "\n",
        "\n",
        "from nltk.tokenize import word_tokenize\n",
        "from nltk.corpus import stopwords \n",
        "from nltk.tokenize import word_tokenize\n",
        "from nltk.stem import WordNetLemmatizer\n",
        "import string \n",
        "from torch.nn.functional import pad \n",
        "\n",
        "def remove_numbers(txt):\n",
        "    txt = ''.join(word for word in txt if not word.isdigit())\n",
        "    return txt\n",
        "\n",
        "def remove_punctuation(txt):\n",
        "    \n",
        "    for punctuation in string.punctuation:\n",
        "        txt = txt.replace(punctuation, '') \n",
        "    \n",
        "    return txt\n",
        "\n",
        "def tokenize(txt):\n",
        "    word_tokens = word_tokenize(txt) \n",
        "    return word_tokens\n",
        "\n",
        "def remove_stopwords(word_tokens):\n",
        "    stop_words = set(stopwords.words('english')) \n",
        "    word_tokens = [w for w in word_tokens if not w in stop_words] \n",
        "    return word_tokens\n",
        "\n",
        "\n",
        "def get_index(txt, vocab=glove):\n",
        "    embedded_text = []\n",
        "    \n",
        "    for word in txt:\n",
        "        try:\n",
        "            embedded_text.append(glove.stoi[word])\n",
        "        except:\n",
        "            pass\n",
        "    \n",
        "    return embedded_text\n",
        "\n",
        "def pad_sentence(txt):\n",
        "    if txt.shape[0]>=MAX_LEN:\n",
        "        return txt[:MAX_LEN]\n",
        "    else:\n",
        "        return pad(txt, (0, MAX_LEN-txt.shape[0]), 'constant',0).long()\n",
        "        \n",
        "\n",
        "def transform_text(txt):\n",
        "    txt = txt.lower()\n",
        "    txt = remove_numbers(txt)\n",
        "    txt = remove_punctuation(txt)\n",
        "    txt = tokenize(txt)\n",
        "    txt = remove_stopwords(txt)\n",
        "    txt = torch.tensor(get_index(txt)).long()\n",
        "    return pad_sentence(txt)"
      ],
      "metadata": {
        "colab": {
          "base_uri": "https://localhost:8080/",
          "height": 244
        },
        "id": "U5jYXKfWgwmJ",
        "outputId": "a3b70b7e-307a-429d-80f7-713354b9ed10"
      },
      "execution_count": null,
      "outputs": [
        {
          "output_type": "error",
          "ename": "NameError",
          "evalue": "ignored",
          "traceback": [
            "\u001b[0;31m---------------------------------------------------------------------------\u001b[0m",
            "\u001b[0;31mNameError\u001b[0m                                 Traceback (most recent call last)",
            "\u001b[0;32m<ipython-input-3-d663ae310b77>\u001b[0m in \u001b[0;36m<module>\u001b[0;34m\u001b[0m\n\u001b[1;32m     30\u001b[0m \u001b[0;34m\u001b[0m\u001b[0m\n\u001b[1;32m     31\u001b[0m \u001b[0;34m\u001b[0m\u001b[0m\n\u001b[0;32m---> 32\u001b[0;31m \u001b[0;32mdef\u001b[0m \u001b[0mget_index\u001b[0m\u001b[0;34m(\u001b[0m\u001b[0mtxt\u001b[0m\u001b[0;34m,\u001b[0m \u001b[0mvocab\u001b[0m\u001b[0;34m=\u001b[0m\u001b[0mglove\u001b[0m\u001b[0;34m)\u001b[0m\u001b[0;34m:\u001b[0m\u001b[0;34m\u001b[0m\u001b[0;34m\u001b[0m\u001b[0m\n\u001b[0m\u001b[1;32m     33\u001b[0m     \u001b[0membedded_text\u001b[0m \u001b[0;34m=\u001b[0m \u001b[0;34m[\u001b[0m\u001b[0;34m]\u001b[0m\u001b[0;34m\u001b[0m\u001b[0;34m\u001b[0m\u001b[0m\n\u001b[1;32m     34\u001b[0m \u001b[0;34m\u001b[0m\u001b[0m\n",
            "\u001b[0;31mNameError\u001b[0m: name 'glove' is not defined"
          ]
        }
      ]
    },
    {
      "cell_type": "markdown",
      "source": [
        "# Using RNN: \n"
      ],
      "metadata": {
        "id": "_-RG3i5YyPoO"
      }
    },
    {
      "cell_type": "code",
      "source": [
        "!pip install pycm livelossplot\n",
        "%pylab inline\n",
        "\n",
        "import random\n",
        "import time\n",
        "import math\n",
        "\n",
        "import glob\n",
        "import string\n",
        "import unicodedata\n",
        "import re\n",
        "from collections import Counter\n",
        "\n",
        "import numpy as np\n",
        "import torch\n",
        "import torch.nn as nn\n",
        "from torch.utils.data import TensorDataset, DataLoader\n",
        "from torch.autograd import Variable\n",
        "import matplotlib.pyplot as plt\n",
        "import matplotlib.ticker as ticker\n",
        "\n",
        "from livelossplot import PlotLosses\n",
        "\n",
        "import pandas as pd\n",
        "\n",
        "\n",
        "def set_seed(seed):\n",
        "    \"\"\"\n",
        "    Use this to set ALL the random seeds to a fixed value and take out any randomness from cuda kernels\n",
        "    \"\"\"\n",
        "    random.seed(seed)\n",
        "    np.random.seed(seed)\n",
        "    torch.manual_seed(seed)\n",
        "    torch.cuda.manual_seed_all(seed)\n",
        "\n",
        "    torch.backends.cudnn.benchmark = False  # uses the inbuilt cudnn auto-tuner to find the fastest convolution algorithms. -\n",
        "    torch.backends.cudnn.enabled   = False\n",
        "\n",
        "    return True\n",
        "\n",
        "device = 'cpu'\n",
        "if torch.cuda.device_count() > 0 and torch.cuda.is_available():\n",
        "    print(\"Cuda installed! Running on GPU!\")\n",
        "    print(torch.cuda.get_device_name())\n",
        "    device = 'cuda'\n",
        "else:\n",
        "    print(\"No GPU available! Running on CPU\")\n",
        "\n",
        "from google.colab import drive\n",
        "drive.mount('/content/drive')"
      ],
      "metadata": {
        "colab": {
          "base_uri": "https://localhost:8080/"
        },
        "id": "eNfw-Pikyg-Z",
        "outputId": "52efde8d-6764-4857-fb8f-00b18441485e"
      },
      "execution_count": null,
      "outputs": [
        {
          "output_type": "stream",
          "name": "stdout",
          "text": [
            "Looking in indexes: https://pypi.org/simple, https://us-python.pkg.dev/colab-wheels/public/simple/\n",
            "Collecting pycm\n",
            "  Downloading pycm-3.8-py2.py3-none-any.whl (66 kB)\n",
            "\u001b[2K     \u001b[90m━━━━━━━━━━━━━━━━━━━━━━━━━━━━━━━━━━━━━━━━\u001b[0m \u001b[32m66.1/66.1 KB\u001b[0m \u001b[31m2.4 MB/s\u001b[0m eta \u001b[36m0:00:00\u001b[0m\n",
            "\u001b[?25hCollecting livelossplot\n",
            "  Downloading livelossplot-0.5.5-py3-none-any.whl (22 kB)\n",
            "Requirement already satisfied: numpy>=1.9.0 in /usr/local/lib/python3.8/dist-packages (from pycm) (1.21.6)\n",
            "Collecting art>=1.8\n",
            "  Downloading art-5.8-py2.py3-none-any.whl (595 kB)\n",
            "\u001b[2K     \u001b[90m━━━━━━━━━━━━━━━━━━━━━━━━━━━━━━━━━━━━━━\u001b[0m \u001b[32m595.7/595.7 KB\u001b[0m \u001b[31m15.7 MB/s\u001b[0m eta \u001b[36m0:00:00\u001b[0m\n",
            "\u001b[?25hRequirement already satisfied: bokeh in /usr/local/lib/python3.8/dist-packages (from livelossplot) (2.3.3)\n",
            "Requirement already satisfied: matplotlib in /usr/local/lib/python3.8/dist-packages (from livelossplot) (3.2.2)\n",
            "Requirement already satisfied: typing-extensions>=3.7.4 in /usr/local/lib/python3.8/dist-packages (from bokeh->livelossplot) (4.4.0)\n",
            "Requirement already satisfied: pillow>=7.1.0 in /usr/local/lib/python3.8/dist-packages (from bokeh->livelossplot) (7.1.2)\n",
            "Requirement already satisfied: Jinja2>=2.9 in /usr/local/lib/python3.8/dist-packages (from bokeh->livelossplot) (2.11.3)\n",
            "Requirement already satisfied: tornado>=5.1 in /usr/local/lib/python3.8/dist-packages (from bokeh->livelossplot) (6.0.4)\n",
            "Requirement already satisfied: packaging>=16.8 in /usr/local/lib/python3.8/dist-packages (from bokeh->livelossplot) (23.0)\n",
            "Requirement already satisfied: PyYAML>=3.10 in /usr/local/lib/python3.8/dist-packages (from bokeh->livelossplot) (6.0)\n",
            "Requirement already satisfied: python-dateutil>=2.1 in /usr/local/lib/python3.8/dist-packages (from bokeh->livelossplot) (2.8.2)\n",
            "Requirement already satisfied: kiwisolver>=1.0.1 in /usr/local/lib/python3.8/dist-packages (from matplotlib->livelossplot) (1.4.4)\n",
            "Requirement already satisfied: cycler>=0.10 in /usr/local/lib/python3.8/dist-packages (from matplotlib->livelossplot) (0.11.0)\n",
            "Requirement already satisfied: pyparsing!=2.0.4,!=2.1.2,!=2.1.6,>=2.0.1 in /usr/local/lib/python3.8/dist-packages (from matplotlib->livelossplot) (3.0.9)\n",
            "Requirement already satisfied: MarkupSafe>=0.23 in /usr/local/lib/python3.8/dist-packages (from Jinja2>=2.9->bokeh->livelossplot) (2.0.1)\n",
            "Requirement already satisfied: six>=1.5 in /usr/local/lib/python3.8/dist-packages (from python-dateutil>=2.1->bokeh->livelossplot) (1.15.0)\n",
            "Installing collected packages: art, pycm, livelossplot\n",
            "Successfully installed art-5.8 livelossplot-0.5.5 pycm-3.8\n",
            "Populating the interactive namespace from numpy and matplotlib\n"
          ]
        },
        {
          "output_type": "stream",
          "name": "stderr",
          "text": [
            "/usr/local/lib/python3.8/dist-packages/torch/cuda/__init__.py:497: UserWarning: Can't initialize NVML\n",
            "  warnings.warn(\"Can't initialize NVML\")\n"
          ]
        },
        {
          "output_type": "stream",
          "name": "stdout",
          "text": [
            "No GPU available! Running on CPU\n",
            "Drive already mounted at /content/drive; to attempt to forcibly remount, call drive.mount(\"/content/drive\", force_remount=True).\n"
          ]
        }
      ]
    },
    {
      "cell_type": "code",
      "source": [
        "# download the data\n",
        "!mkdir data_gen\n",
        "!cd data_gen && wget https://github.com/sachaRfd/ChatBot/blob/main/science_data.csv"
      ],
      "metadata": {
        "colab": {
          "base_uri": "https://localhost:8080/"
        },
        "id": "XFowhCo7yvzz",
        "outputId": "8d47779a-6a89-465b-a744-84bdd7b442b5"
      },
      "execution_count": null,
      "outputs": [
        {
          "output_type": "stream",
          "name": "stdout",
          "text": [
            "--2023-02-15 16:38:41--  https://github.com/sachaRfd/ChatBot/blob/main/science_data.csv\n",
            "Resolving github.com (github.com)... 140.82.112.3\n",
            "Connecting to github.com (github.com)|140.82.112.3|:443... connected.\n",
            "HTTP request sent, awaiting response... 200 OK\n",
            "Length: unspecified [text/html]\n",
            "Saving to: ‘science_data.csv’\n",
            "\n",
            "science_data.csv        [ <=>                ] 155.43K  --.-KB/s    in 0.07s   \n",
            "\n",
            "2023-02-15 16:38:41 (2.09 MB/s) - ‘science_data.csv’ saved [159162]\n",
            "\n",
            "--2023-02-15 16:38:42--  https://raw.githubusercontent.com/amoudgl/short-jokes-dataset/master/data/reddit-cleanjokes.csv\n",
            "Resolving raw.githubusercontent.com (raw.githubusercontent.com)... 185.199.109.133, 185.199.110.133, 185.199.111.133, ...\n",
            "Connecting to raw.githubusercontent.com (raw.githubusercontent.com)|185.199.109.133|:443... connected.\n",
            "HTTP request sent, awaiting response... 200 OK\n",
            "Length: 141847 (139K) [text/plain]\n",
            "Saving to: ‘reddit-cleanjokes.csv’\n",
            "\n",
            "reddit-cleanjokes.c 100%[===================>] 138.52K  --.-KB/s    in 0.02s   \n",
            "\n",
            "2023-02-15 16:38:42 (5.84 MB/s) - ‘reddit-cleanjokes.csv’ saved [141847/141847]\n",
            "\n"
          ]
        }
      ]
    },
    {
      "cell_type": "code",
      "source": [
        "pd.read_csv('data_gen/science_data.csv')\n"
      ],
      "metadata": {
        "colab": {
          "base_uri": "https://localhost:8080/",
          "height": 1000
        },
        "id": "FC5rGbPi6ZUL",
        "outputId": "7feacd91-1825-4797-9209-d829941ff356"
      },
      "execution_count": null,
      "outputs": [
        {
          "output_type": "execute_result",
          "data": {
            "text/plain": [
              "    ID                                Question and Answer\n",
              "0    1  What is the speed of light? The speed of light...\n",
              "1    2  What is the formula for calculating force? The...\n",
              "2    3  What is the difference between an atom and a m...\n",
              "3    4  What is the process of photosynthesis? Photosy...\n",
              "4    5  What is the theory of relativity? The theory o...\n",
              "5    6  What is the structure of DNA? DNA is a double ...\n",
              "6    7  What is a black hole? A black hole is a region...\n",
              "7    8  What is the greenhouse effect? The greenhouse ...\n",
              "8    9  What is the Big Bang theory? The Big Bang theo...\n",
              "9   10  What is the difference between a hypothesis an...\n",
              "10  11  What is the chemical symbol for water? The che...\n",
              "11  12  What is a gene? A gene is a segment of DNA tha...\n",
              "12  13  What is the difference between a virus and a b...\n",
              "13  14  What is photosynthesis? Photosynthesis is the ...\n",
              "14  15  What is the formula for calculating kinetic en...\n",
              "15  16  What is a neuron? A neuron is a specialized ce...\n",
              "16  17  What is the difference between a comet and an ...\n",
              "17  18  What is the scientific method? The scientific ...\n",
              "18  19  What is the difference between a hypothesis an...\n",
              "19  20  What is the greenhouse effect? The greenhouse ...\n",
              "20  21  What is the difference between weather and cli...\n",
              "21  22  What is a black hole? A black hole is a region...\n",
              "22  23  What is a tectonic plate? A tectonic plate is ...\n",
              "23  24  What is a proton? A proton is a subatomic part...\n",
              "24  25  What is the difference between fusion and fiss...\n",
              "25  26  What is the Higgs boson? The Higgs boson is a ...\n",
              "26  27  What is the difference between a supernova and...\n",
              "27  28  What is a mole? In chemistry, a mole is a unit...\n",
              "28  29  What is a pulsar? A pulsar is a highly magneti...\n",
              "29  30  What is the difference between an autotroph an...\n",
              "30  31  What is a catalyst? A catalyst is a substance ...\n",
              "31  32  What is the difference between a chemical chan...\n",
              "32  33  What is a magnet? A magnet is a material or ob...\n",
              "33  34  What is an isotope? An isotope is a form of an...\n",
              "34  35  What is the difference between a solute and a ...\n",
              "35  36  What is a combustion reaction? A combustion re...\n",
              "36  37  What is the difference between a primary and a...\n",
              "37  38  What is the difference between an exothermic a...\n",
              "38  39  What is a supersaturated solution? A supersatu...\n",
              "39  40  What is the Bohr model? The Bohr model is a mo...\n",
              "40  41  What is the difference between an acid and a b...\n",
              "41  42  What is a centrifuge? A centrifuge is a machin...\n",
              "42  43  What is the difference between a supernova and...\n",
              "43  44  What is a subatomic particle? A subatomic part...\n",
              "44  45  What is the difference between conduction and ...\n",
              "45  46  What is the difference between a physical prop...\n",
              "46  47  What is a sedimentary rock? A sedimentary rock...\n",
              "47  48  What is a gene mutation? A gene mutation is a ..."
            ],
            "text/html": [
              "\n",
              "  <div id=\"df-9f3360fd-ef7c-44ba-a94e-1000d5a347e3\">\n",
              "    <div class=\"colab-df-container\">\n",
              "      <div>\n",
              "<style scoped>\n",
              "    .dataframe tbody tr th:only-of-type {\n",
              "        vertical-align: middle;\n",
              "    }\n",
              "\n",
              "    .dataframe tbody tr th {\n",
              "        vertical-align: top;\n",
              "    }\n",
              "\n",
              "    .dataframe thead th {\n",
              "        text-align: right;\n",
              "    }\n",
              "</style>\n",
              "<table border=\"1\" class=\"dataframe\">\n",
              "  <thead>\n",
              "    <tr style=\"text-align: right;\">\n",
              "      <th></th>\n",
              "      <th>ID</th>\n",
              "      <th>Question and Answer</th>\n",
              "    </tr>\n",
              "  </thead>\n",
              "  <tbody>\n",
              "    <tr>\n",
              "      <th>0</th>\n",
              "      <td>1</td>\n",
              "      <td>What is the speed of light? The speed of light...</td>\n",
              "    </tr>\n",
              "    <tr>\n",
              "      <th>1</th>\n",
              "      <td>2</td>\n",
              "      <td>What is the formula for calculating force? The...</td>\n",
              "    </tr>\n",
              "    <tr>\n",
              "      <th>2</th>\n",
              "      <td>3</td>\n",
              "      <td>What is the difference between an atom and a m...</td>\n",
              "    </tr>\n",
              "    <tr>\n",
              "      <th>3</th>\n",
              "      <td>4</td>\n",
              "      <td>What is the process of photosynthesis? Photosy...</td>\n",
              "    </tr>\n",
              "    <tr>\n",
              "      <th>4</th>\n",
              "      <td>5</td>\n",
              "      <td>What is the theory of relativity? The theory o...</td>\n",
              "    </tr>\n",
              "    <tr>\n",
              "      <th>5</th>\n",
              "      <td>6</td>\n",
              "      <td>What is the structure of DNA? DNA is a double ...</td>\n",
              "    </tr>\n",
              "    <tr>\n",
              "      <th>6</th>\n",
              "      <td>7</td>\n",
              "      <td>What is a black hole? A black hole is a region...</td>\n",
              "    </tr>\n",
              "    <tr>\n",
              "      <th>7</th>\n",
              "      <td>8</td>\n",
              "      <td>What is the greenhouse effect? The greenhouse ...</td>\n",
              "    </tr>\n",
              "    <tr>\n",
              "      <th>8</th>\n",
              "      <td>9</td>\n",
              "      <td>What is the Big Bang theory? The Big Bang theo...</td>\n",
              "    </tr>\n",
              "    <tr>\n",
              "      <th>9</th>\n",
              "      <td>10</td>\n",
              "      <td>What is the difference between a hypothesis an...</td>\n",
              "    </tr>\n",
              "    <tr>\n",
              "      <th>10</th>\n",
              "      <td>11</td>\n",
              "      <td>What is the chemical symbol for water? The che...</td>\n",
              "    </tr>\n",
              "    <tr>\n",
              "      <th>11</th>\n",
              "      <td>12</td>\n",
              "      <td>What is a gene? A gene is a segment of DNA tha...</td>\n",
              "    </tr>\n",
              "    <tr>\n",
              "      <th>12</th>\n",
              "      <td>13</td>\n",
              "      <td>What is the difference between a virus and a b...</td>\n",
              "    </tr>\n",
              "    <tr>\n",
              "      <th>13</th>\n",
              "      <td>14</td>\n",
              "      <td>What is photosynthesis? Photosynthesis is the ...</td>\n",
              "    </tr>\n",
              "    <tr>\n",
              "      <th>14</th>\n",
              "      <td>15</td>\n",
              "      <td>What is the formula for calculating kinetic en...</td>\n",
              "    </tr>\n",
              "    <tr>\n",
              "      <th>15</th>\n",
              "      <td>16</td>\n",
              "      <td>What is a neuron? A neuron is a specialized ce...</td>\n",
              "    </tr>\n",
              "    <tr>\n",
              "      <th>16</th>\n",
              "      <td>17</td>\n",
              "      <td>What is the difference between a comet and an ...</td>\n",
              "    </tr>\n",
              "    <tr>\n",
              "      <th>17</th>\n",
              "      <td>18</td>\n",
              "      <td>What is the scientific method? The scientific ...</td>\n",
              "    </tr>\n",
              "    <tr>\n",
              "      <th>18</th>\n",
              "      <td>19</td>\n",
              "      <td>What is the difference between a hypothesis an...</td>\n",
              "    </tr>\n",
              "    <tr>\n",
              "      <th>19</th>\n",
              "      <td>20</td>\n",
              "      <td>What is the greenhouse effect? The greenhouse ...</td>\n",
              "    </tr>\n",
              "    <tr>\n",
              "      <th>20</th>\n",
              "      <td>21</td>\n",
              "      <td>What is the difference between weather and cli...</td>\n",
              "    </tr>\n",
              "    <tr>\n",
              "      <th>21</th>\n",
              "      <td>22</td>\n",
              "      <td>What is a black hole? A black hole is a region...</td>\n",
              "    </tr>\n",
              "    <tr>\n",
              "      <th>22</th>\n",
              "      <td>23</td>\n",
              "      <td>What is a tectonic plate? A tectonic plate is ...</td>\n",
              "    </tr>\n",
              "    <tr>\n",
              "      <th>23</th>\n",
              "      <td>24</td>\n",
              "      <td>What is a proton? A proton is a subatomic part...</td>\n",
              "    </tr>\n",
              "    <tr>\n",
              "      <th>24</th>\n",
              "      <td>25</td>\n",
              "      <td>What is the difference between fusion and fiss...</td>\n",
              "    </tr>\n",
              "    <tr>\n",
              "      <th>25</th>\n",
              "      <td>26</td>\n",
              "      <td>What is the Higgs boson? The Higgs boson is a ...</td>\n",
              "    </tr>\n",
              "    <tr>\n",
              "      <th>26</th>\n",
              "      <td>27</td>\n",
              "      <td>What is the difference between a supernova and...</td>\n",
              "    </tr>\n",
              "    <tr>\n",
              "      <th>27</th>\n",
              "      <td>28</td>\n",
              "      <td>What is a mole? In chemistry, a mole is a unit...</td>\n",
              "    </tr>\n",
              "    <tr>\n",
              "      <th>28</th>\n",
              "      <td>29</td>\n",
              "      <td>What is a pulsar? A pulsar is a highly magneti...</td>\n",
              "    </tr>\n",
              "    <tr>\n",
              "      <th>29</th>\n",
              "      <td>30</td>\n",
              "      <td>What is the difference between an autotroph an...</td>\n",
              "    </tr>\n",
              "    <tr>\n",
              "      <th>30</th>\n",
              "      <td>31</td>\n",
              "      <td>What is a catalyst? A catalyst is a substance ...</td>\n",
              "    </tr>\n",
              "    <tr>\n",
              "      <th>31</th>\n",
              "      <td>32</td>\n",
              "      <td>What is the difference between a chemical chan...</td>\n",
              "    </tr>\n",
              "    <tr>\n",
              "      <th>32</th>\n",
              "      <td>33</td>\n",
              "      <td>What is a magnet? A magnet is a material or ob...</td>\n",
              "    </tr>\n",
              "    <tr>\n",
              "      <th>33</th>\n",
              "      <td>34</td>\n",
              "      <td>What is an isotope? An isotope is a form of an...</td>\n",
              "    </tr>\n",
              "    <tr>\n",
              "      <th>34</th>\n",
              "      <td>35</td>\n",
              "      <td>What is the difference between a solute and a ...</td>\n",
              "    </tr>\n",
              "    <tr>\n",
              "      <th>35</th>\n",
              "      <td>36</td>\n",
              "      <td>What is a combustion reaction? A combustion re...</td>\n",
              "    </tr>\n",
              "    <tr>\n",
              "      <th>36</th>\n",
              "      <td>37</td>\n",
              "      <td>What is the difference between a primary and a...</td>\n",
              "    </tr>\n",
              "    <tr>\n",
              "      <th>37</th>\n",
              "      <td>38</td>\n",
              "      <td>What is the difference between an exothermic a...</td>\n",
              "    </tr>\n",
              "    <tr>\n",
              "      <th>38</th>\n",
              "      <td>39</td>\n",
              "      <td>What is a supersaturated solution? A supersatu...</td>\n",
              "    </tr>\n",
              "    <tr>\n",
              "      <th>39</th>\n",
              "      <td>40</td>\n",
              "      <td>What is the Bohr model? The Bohr model is a mo...</td>\n",
              "    </tr>\n",
              "    <tr>\n",
              "      <th>40</th>\n",
              "      <td>41</td>\n",
              "      <td>What is the difference between an acid and a b...</td>\n",
              "    </tr>\n",
              "    <tr>\n",
              "      <th>41</th>\n",
              "      <td>42</td>\n",
              "      <td>What is a centrifuge? A centrifuge is a machin...</td>\n",
              "    </tr>\n",
              "    <tr>\n",
              "      <th>42</th>\n",
              "      <td>43</td>\n",
              "      <td>What is the difference between a supernova and...</td>\n",
              "    </tr>\n",
              "    <tr>\n",
              "      <th>43</th>\n",
              "      <td>44</td>\n",
              "      <td>What is a subatomic particle? A subatomic part...</td>\n",
              "    </tr>\n",
              "    <tr>\n",
              "      <th>44</th>\n",
              "      <td>45</td>\n",
              "      <td>What is the difference between conduction and ...</td>\n",
              "    </tr>\n",
              "    <tr>\n",
              "      <th>45</th>\n",
              "      <td>46</td>\n",
              "      <td>What is the difference between a physical prop...</td>\n",
              "    </tr>\n",
              "    <tr>\n",
              "      <th>46</th>\n",
              "      <td>47</td>\n",
              "      <td>What is a sedimentary rock? A sedimentary rock...</td>\n",
              "    </tr>\n",
              "    <tr>\n",
              "      <th>47</th>\n",
              "      <td>48</td>\n",
              "      <td>What is a gene mutation? A gene mutation is a ...</td>\n",
              "    </tr>\n",
              "  </tbody>\n",
              "</table>\n",
              "</div>\n",
              "      <button class=\"colab-df-convert\" onclick=\"convertToInteractive('df-9f3360fd-ef7c-44ba-a94e-1000d5a347e3')\"\n",
              "              title=\"Convert this dataframe to an interactive table.\"\n",
              "              style=\"display:none;\">\n",
              "        \n",
              "  <svg xmlns=\"http://www.w3.org/2000/svg\" height=\"24px\"viewBox=\"0 0 24 24\"\n",
              "       width=\"24px\">\n",
              "    <path d=\"M0 0h24v24H0V0z\" fill=\"none\"/>\n",
              "    <path d=\"M18.56 5.44l.94 2.06.94-2.06 2.06-.94-2.06-.94-.94-2.06-.94 2.06-2.06.94zm-11 1L8.5 8.5l.94-2.06 2.06-.94-2.06-.94L8.5 2.5l-.94 2.06-2.06.94zm10 10l.94 2.06.94-2.06 2.06-.94-2.06-.94-.94-2.06-.94 2.06-2.06.94z\"/><path d=\"M17.41 7.96l-1.37-1.37c-.4-.4-.92-.59-1.43-.59-.52 0-1.04.2-1.43.59L10.3 9.45l-7.72 7.72c-.78.78-.78 2.05 0 2.83L4 21.41c.39.39.9.59 1.41.59.51 0 1.02-.2 1.41-.59l7.78-7.78 2.81-2.81c.8-.78.8-2.07 0-2.86zM5.41 20L4 18.59l7.72-7.72 1.47 1.35L5.41 20z\"/>\n",
              "  </svg>\n",
              "      </button>\n",
              "      \n",
              "  <style>\n",
              "    .colab-df-container {\n",
              "      display:flex;\n",
              "      flex-wrap:wrap;\n",
              "      gap: 12px;\n",
              "    }\n",
              "\n",
              "    .colab-df-convert {\n",
              "      background-color: #E8F0FE;\n",
              "      border: none;\n",
              "      border-radius: 50%;\n",
              "      cursor: pointer;\n",
              "      display: none;\n",
              "      fill: #1967D2;\n",
              "      height: 32px;\n",
              "      padding: 0 0 0 0;\n",
              "      width: 32px;\n",
              "    }\n",
              "\n",
              "    .colab-df-convert:hover {\n",
              "      background-color: #E2EBFA;\n",
              "      box-shadow: 0px 1px 2px rgba(60, 64, 67, 0.3), 0px 1px 3px 1px rgba(60, 64, 67, 0.15);\n",
              "      fill: #174EA6;\n",
              "    }\n",
              "\n",
              "    [theme=dark] .colab-df-convert {\n",
              "      background-color: #3B4455;\n",
              "      fill: #D2E3FC;\n",
              "    }\n",
              "\n",
              "    [theme=dark] .colab-df-convert:hover {\n",
              "      background-color: #434B5C;\n",
              "      box-shadow: 0px 1px 3px 1px rgba(0, 0, 0, 0.15);\n",
              "      filter: drop-shadow(0px 1px 2px rgba(0, 0, 0, 0.3));\n",
              "      fill: #FFFFFF;\n",
              "    }\n",
              "  </style>\n",
              "\n",
              "      <script>\n",
              "        const buttonEl =\n",
              "          document.querySelector('#df-9f3360fd-ef7c-44ba-a94e-1000d5a347e3 button.colab-df-convert');\n",
              "        buttonEl.style.display =\n",
              "          google.colab.kernel.accessAllowed ? 'block' : 'none';\n",
              "\n",
              "        async function convertToInteractive(key) {\n",
              "          const element = document.querySelector('#df-9f3360fd-ef7c-44ba-a94e-1000d5a347e3');\n",
              "          const dataTable =\n",
              "            await google.colab.kernel.invokeFunction('convertToInteractive',\n",
              "                                                     [key], {});\n",
              "          if (!dataTable) return;\n",
              "\n",
              "          const docLinkHtml = 'Like what you see? Visit the ' +\n",
              "            '<a target=\"_blank\" href=https://colab.research.google.com/notebooks/data_table.ipynb>data table notebook</a>'\n",
              "            + ' to learn more about interactive tables.';\n",
              "          element.innerHTML = '';\n",
              "          dataTable['output_type'] = 'display_data';\n",
              "          await google.colab.output.renderOutput(dataTable, element);\n",
              "          const docLink = document.createElement('div');\n",
              "          docLink.innerHTML = docLinkHtml;\n",
              "          element.appendChild(docLink);\n",
              "        }\n",
              "      </script>\n",
              "    </div>\n",
              "  </div>\n",
              "  "
            ]
          },
          "metadata": {},
          "execution_count": 4
        }
      ]
    },
    {
      "cell_type": "code",
      "source": [
        "def readFile_csv(filename, header):\n",
        "    \"\"\" \n",
        "    Read a csv file and return list with line entries \n",
        "    \"\"\"\n",
        "    dataframe = pd.read_csv(filename)\n",
        "    data = dataframe[header].str.cat(sep=' ')\n",
        "    data = data.split(' ')\n",
        "    return data\n",
        "\n",
        "filename, header = 'data_gen/science_data.csv', 'Question and Answer'\n",
        "data = readFile_csv(filename, header)\n",
        "print((data))\n",
        "print(len(data))"
      ],
      "metadata": {
        "colab": {
          "base_uri": "https://localhost:8080/"
        },
        "id": "VEqJ4CVTyzLy",
        "outputId": "a41e9ef6-7634-4231-bbe3-8a4806740c62"
      },
      "execution_count": null,
      "outputs": [
        {
          "output_type": "stream",
          "name": "stdout",
          "text": [
            "['What', 'is', 'the', 'speed', 'of', 'light?', 'The', 'speed', 'of', 'light', 'is', 'approximately', '299,792,458', 'meters', 'per', 'second.', 'What', 'is', 'the', 'formula', 'for', 'calculating', 'force?', 'The', 'formula', 'for', 'calculating', 'force', 'is', 'force', '=', 'mass', 'x', 'acceleration.', 'What', 'is', 'the', 'difference', 'between', 'an', 'atom', 'and', 'a', 'molecule?', 'An', 'atom', 'is', 'the', 'smallest', 'unit', 'of', 'matter', 'that', 'retains', 'the', 'properties', 'of', 'an', 'element,', 'while', 'a', 'molecule', 'is', 'a', 'combination', 'of', 'two', 'or', 'more', 'atoms', 'held', 'together', 'by', 'covalent', 'bonds.', 'What', 'is', 'the', 'process', 'of', 'photosynthesis?', 'Photosynthesis', 'is', 'the', 'process', 'by', 'which', 'green', 'plants', 'and', 'some', 'other', 'organisms', 'use', 'sunlight', 'to', 'synthesize', 'foods', 'with', 'the', 'help', 'of', 'chlorophyll', 'and', 'other', 'pigments.', 'What', 'is', 'the', 'theory', 'of', 'relativity?', 'The', 'theory', 'of', 'relativity', 'is', 'a', 'theory', 'that', 'describes', 'the', 'relationship', 'between', 'space', 'and', 'time,', 'and', 'how', 'gravity', 'affects', 'this', 'relationship.', 'What', 'is', 'the', 'structure', 'of', 'DNA?', 'DNA', 'is', 'a', 'double', 'helix', 'structure', 'made', 'up', 'of', 'nucleotides,', 'which', 'are', 'the', 'building', 'blocks', 'of', 'DNA.', 'What', 'is', 'a', 'black', 'hole?', 'A', 'black', 'hole', 'is', 'a', 'region', 'in', 'space', 'where', 'the', 'gravitational', 'pull', 'is', 'so', 'strong', 'that', 'nothing,', 'including', 'light,', 'can', 'escape', 'from', 'it.', 'What', 'is', 'the', 'greenhouse', 'effect?', 'The', 'greenhouse', 'effect', 'is', 'a', 'process', 'by', 'which', 'certain', 'gases,', 'such', 'as', 'carbon', 'dioxide', 'and', 'water', 'vapor,', 'trap', 'heat', 'in', 'the', \"Earth's\", 'atmosphere', 'and', 'warm', 'the', 'planet.', 'What', 'is', 'the', 'Big', 'Bang', 'theory?', 'The', 'Big', 'Bang', 'theory', 'is', 'a', 'scientific', 'explanation', 'for', 'the', 'origin', 'of', 'the', 'universe,', 'which', 'suggests', 'that', 'the', 'universe', 'began', 'as', 'a', 'singularity', 'and', 'has', 'been', 'expanding', 'ever', 'since.', 'What', 'is', 'the', 'difference', 'between', 'a', 'hypothesis', 'and', 'a', 'theory?', 'A', 'hypothesis', 'is', 'an', 'educated', 'guess', 'or', 'prediction', 'that', 'can', 'be', 'tested,', 'while', 'a', 'theory', 'is', 'a', 'well-substantiated', 'explanation', 'for', 'a', 'phenomenon', 'based', 'on', 'a', 'large', 'body', 'of', 'evidence.', 'What', 'is', 'the', 'chemical', 'symbol', 'for', 'water?', 'The', 'chemical', 'symbol', 'for', 'water', 'is', 'H2O.', 'What', 'is', 'a', 'gene?', 'A', 'gene', 'is', 'a', 'segment', 'of', 'DNA', 'that', 'contains', 'the', 'instructions', 'for', 'building', 'a', 'protein.', 'What', 'is', 'the', 'difference', 'between', 'a', 'virus', 'and', 'a', 'bacteria?', 'A', 'virus', 'is', 'smaller', 'than', 'a', 'bacteria', 'and', 'requires', 'a', 'host', 'cell', 'to', 'replicate,', 'while', 'a', 'bacteria', 'is', 'a', 'single-celled', 'organism', 'that', 'can', 'reproduce', 'on', 'its', 'own.', 'What', 'is', 'photosynthesis?', 'Photosynthesis', 'is', 'the', 'process', 'by', 'which', 'plants,', 'algae,', 'and', 'some', 'bacteria', 'convert', 'light', 'energy', 'into', 'chemical', 'energy.', 'What', 'is', 'the', 'formula', 'for', 'calculating', 'kinetic', 'energy?', 'The', 'formula', 'for', 'calculating', 'kinetic', 'energy', 'is', 'KE', '=', '1/2', 'mv^2,', 'where', 'm', 'is', 'the', 'mass', 'of', 'the', 'object', 'and', 'v', 'is', 'its', 'velocity.', 'What', 'is', 'a', 'neuron?', 'A', 'neuron', 'is', 'a', 'specialized', 'cell', 'that', 'transmits', 'information', 'through', 'electrical', 'and', 'chemical', 'signals', 'in', 'the', 'nervous', 'system.', 'What', 'is', 'the', 'difference', 'between', 'a', 'comet', 'and', 'an', 'asteroid?', 'A', 'comet', 'is', 'made', 'up', 'of', 'ice,', 'dust,', 'and', 'rock,', 'while', 'an', 'asteroid', 'is', 'made', 'up', 'of', 'rock', 'and', 'metal.', 'What', 'is', 'the', 'scientific', 'method?', 'The', 'scientific', 'method', 'is', 'a', 'systematic', 'approach', 'to', 'investigating', 'natural', 'phenomena', 'that', 'involves', 'observation,', 'hypothesis', 'testing,', 'and', 'data', 'analysis.', 'What', 'is', 'the', 'difference', 'between', 'a', 'hypothesis', 'and', 'a', 'theory?', 'A', 'hypothesis', 'is', 'a', 'proposed', 'explanation', 'for', 'a', 'phenomenon', 'that', 'can', 'be', 'tested,', 'while', 'a', 'theory', 'is', 'a', 'well-supported', 'explanation', 'for', 'a', 'phenomenon', 'that', 'has', 'been', 'extensively', 'tested', 'and', 'is', 'generally', 'accepted', 'as', 'true.', 'What', 'is', 'the', 'greenhouse', 'effect?', 'The', 'greenhouse', 'effect', 'is', 'the', 'warming', 'of', 'the', \"Earth's\", 'surface', 'and', 'lower', 'atmosphere', 'caused', 'by', 'the', 'trapping', 'of', 'heat', 'from', 'the', 'sun', 'by', 'gases', 'such', 'as', 'carbon', 'dioxide,', 'water', 'vapor,', 'and', 'methane.', 'What', 'is', 'the', 'difference', 'between', 'weather', 'and', 'climate?', 'Weather', 'refers', 'to', 'the', 'short-term', 'conditions', 'of', 'the', 'atmosphere,', 'while', 'climate', 'refers', 'to', 'the', 'long-term', 'average', 'conditions', 'of', 'the', 'atmosphere', 'in', 'a', 'specific', 'region.', 'What', 'is', 'a', 'black', 'hole?', 'A', 'black', 'hole', 'is', 'a', 'region', 'of', 'space', 'where', 'the', 'gravitational', 'pull', 'is', 'so', 'strong', 'that', 'nothing,', 'not', 'even', 'light,', 'can', 'escape.', 'What', 'is', 'a', 'tectonic', 'plate?', 'A', 'tectonic', 'plate', 'is', 'a', 'massive,', 'irregularly', 'shaped', 'slab', 'of', 'solid', 'rock', 'that', 'makes', 'up', 'the', \"Earth's\", 'crust', 'and', 'moves', 'around', 'on', 'the', \"planet's\", 'mantle.', 'What', 'is', 'a', 'proton?', 'A', 'proton', 'is', 'a', 'subatomic', 'particle', 'with', 'a', 'positive', 'electric', 'charge', 'that', 'is', 'found', 'in', 'the', 'nucleus', 'of', 'an', 'atom.', 'What', 'is', 'the', 'difference', 'between', 'fusion', 'and', 'fission?', 'Fusion', 'is', 'the', 'process', 'of', 'combining', 'two', 'atomic', 'nuclei', 'to', 'form', 'a', 'heavier', 'nucleus,', 'while', 'fission', 'is', 'the', 'process', 'of', 'splitting', 'an', 'atomic', 'nucleus', 'into', 'two', 'or', 'more', 'smaller', 'nuclei.', 'What', 'is', 'the', 'Higgs', 'boson?', 'The', 'Higgs', 'boson', 'is', 'a', 'subatomic', 'particle', 'that', 'is', 'thought', 'to', 'give', 'other', 'particles', 'mass.', 'What', 'is', 'the', 'difference', 'between', 'a', 'supernova', 'and', 'a', 'black', 'hole?', 'A', 'supernova', 'is', 'an', 'explosion', 'that', 'occurs', 'when', 'a', 'star', 'runs', 'out', 'of', 'fuel', 'and', 'collapses,', 'while', 'a', 'black', 'hole', 'is', 'a', 'region', 'of', 'space', 'where', 'the', 'gravitational', 'pull', 'is', 'so', 'strong', 'that', 'nothing,', 'not', 'even', 'light,', 'can', 'escape.', 'What', 'is', 'a', 'mole?', 'In', 'chemistry,', 'a', 'mole', 'is', 'a', 'unit', 'of', 'measurement', 'that', 'represents', 'a', 'specific', 'number', 'of', 'atoms,', 'molecules,', 'or', 'other', 'particles.', 'What', 'is', 'a', 'pulsar?', 'A', 'pulsar', 'is', 'a', 'highly', 'magnetized,', 'rotating', 'neutron', 'star', 'that', 'emits', 'beams', 'of', 'electromagnetic', 'radiation', 'out', 'of', 'its', 'magnetic', 'poles.', 'What', 'is', 'the', 'difference', 'between', 'an', 'autotroph', 'and', 'a', 'heterotroph?', 'An', 'autotroph', 'is', 'an', 'organism', 'that', 'can', 'produce', 'its', 'own', 'food', 'through', 'photosynthesis', 'or', 'chemosynthesis,', 'while', 'a', 'heterotroph', 'is', 'an', 'organism', 'that', 'must', 'consume', 'other', 'organisms', 'to', 'obtain', 'food.', 'What', 'is', 'a', 'catalyst?', 'A', 'catalyst', 'is', 'a', 'substance', 'that', 'speeds', 'up', 'a', 'chemical', 'reaction', 'without', 'being', 'consumed', 'in', 'the', 'reaction', 'itself.', 'What', 'is', 'the', 'difference', 'between', 'a', 'chemical', 'change', 'and', 'a', 'physical', 'change?', 'A', 'chemical', 'change', 'involves', 'a', 'transformation', 'of', 'the', 'substance', 'into', 'a', 'new', 'substance,', 'while', 'a', 'physical', 'change', 'only', 'changes', 'the', 'appearance', 'or', 'state', 'of', 'the', 'substance.', 'What', 'is', 'a', 'magnet?', 'A', 'magnet', 'is', 'a', 'material', 'or', 'object', 'that', 'produces', 'a', 'magnetic', 'field,', 'which', 'attracts', 'or', 'repels', 'certain', 'materials,', 'such', 'as', 'iron', 'or', 'steel.', 'What', 'is', 'an', 'isotope?', 'An', 'isotope', 'is', 'a', 'form', 'of', 'an', 'element', 'that', 'has', 'the', 'same', 'number', 'of', 'protons', 'but', 'a', 'different', 'number', 'of', 'neutrons', 'in', 'its', 'nucleus.', 'What', 'is', 'the', 'difference', 'between', 'a', 'solute', 'and', 'a', 'solvent?', 'A', 'solute', 'is', 'a', 'substance', 'that', 'is', 'dissolved', 'in', 'a', 'solvent', 'to', 'create', 'a', 'solution.', 'A', 'solvent', 'is', 'the', 'substance', 'in', 'which', 'the', 'solute', 'is', 'dissolved.', 'What', 'is', 'a', 'combustion', 'reaction?', 'A', 'combustion', 'reaction', 'is', 'a', 'chemical', 'reaction', 'that', 'involves', 'the', 'rapid', 'combination', 'of', 'a', 'fuel', 'with', 'oxygen,', 'resulting', 'in', 'the', 'release', 'of', 'energy', 'in', 'the', 'form', 'of', 'heat', 'and', 'light.', 'What', 'is', 'the', 'difference', 'between', 'a', 'primary', 'and', 'a', 'secondary', 'consumer?', 'A', 'primary', 'consumer', 'is', 'an', 'organism', 'that', 'feeds', 'on', 'producers,', 'while', 'a', 'secondary', 'consumer', 'is', 'an', 'organism', 'that', 'feeds', 'on', 'other', 'consumers.', 'What', 'is', 'the', 'difference', 'between', 'an', 'exothermic', 'and', 'an', 'endothermic', 'reaction?', 'An', 'exothermic', 'reaction', 'releases', 'heat,', 'while', 'an', 'endothermic', 'reaction', 'absorbs', 'heat.', 'What', 'is', 'a', 'supersaturated', 'solution?', 'A', 'supersaturated', 'solution', 'is', 'a', 'solution', 'that', 'contains', 'more', 'solute', 'than', 'it', 'should', 'be', 'able', 'to', 'dissolve', 'under', 'normal', 'circumstances,', 'due', 'to', 'changes', 'in', 'temperature,', 'pressure,', 'or', 'other', 'factors.', 'What', 'is', 'the', 'Bohr', 'model?', 'The', 'Bohr', 'model', 'is', 'a', 'model', 'of', 'the', 'atom', 'that', 'depicts', 'electrons', 'in', 'circular', 'orbits', 'around', 'the', 'nucleus.', 'What', 'is', 'the', 'difference', 'between', 'an', 'acid', 'and', 'a', 'base?', 'An', 'acid', 'is', 'a', 'substance', 'that', 'donates', 'protons,', 'while', 'a', 'base', 'is', 'a', 'substance', 'that', 'accepts', 'protons.', 'What', 'is', 'a', 'centrifuge?', 'A', 'centrifuge', 'is', 'a', 'machine', 'that', 'uses', 'centrifugal', 'force', 'to', 'separate', 'materials', 'of', 'different', 'densities,', 'such', 'as', 'blood', 'or', 'DNA', 'samples.', 'What', 'is', 'the', 'difference', 'between', 'a', 'supernova', 'and', 'a', 'neutron', 'star?', 'A', 'supernova', 'is', 'a', 'massive', 'explosion', 'that', 'occurs', 'when', 'a', 'star', 'runs', 'out', 'of', 'fuel,', 'while', 'a', 'neutron', 'star', 'is', 'the', 'collapsed', 'core', 'of', 'a', 'massive', 'star', 'that', 'has', 'gone', 'supernova.', 'What', 'is', 'a', 'subatomic', 'particle?', 'A', 'subatomic', 'particle', 'is', 'a', 'particle', 'that', 'is', 'smaller', 'than', 'an', 'atom,', 'such', 'as', 'protons,', 'neutrons,', 'and', 'electrons.', 'What', 'is', 'the', 'difference', 'between', 'conduction', 'and', 'convection?', 'Conduction', 'is', 'the', 'transfer', 'of', 'heat', 'through', 'direct', 'contact,', 'while', 'convection', 'is', 'the', 'transfer', 'of', 'heat', 'through', 'the', 'movement', 'of', 'fluids,', 'such', 'as', 'air', 'or', 'water.', 'What', 'is', 'the', 'difference', 'between', 'a', 'physical', 'property', 'and', 'a', 'chemical', 'property?', 'A', 'physical', 'property', 'is', 'a', 'characteristic', 'of', 'a', 'substance', 'that', 'can', 'be', 'observed', 'or', 'measured', 'without', 'changing', 'the', 'substance', 'into', 'a', 'different', 'substance,', 'while', 'a', 'chemical', 'property', 'is', 'a', 'characteristic', 'of', 'a', 'substance', 'that', 'can', 'only', 'be', 'observed', 'through', 'a', 'chemical', 'reaction.', 'What', 'is', 'a', 'sedimentary', 'rock?', 'A', 'sedimentary', 'rock', 'is', 'a', 'type', 'of', 'rock', 'that', 'is', 'formed', 'by', 'the', 'accumulation', 'and', 'cementation', 'of', 'sediment,', 'such', 'as', 'sand,', 'mud,', 'or', 'fossils.', 'What', 'is', 'a', 'gene', 'mutation?', 'A', 'gene', 'mutation', 'is', 'a', 'change', 'in', 'the', 'DNA', 'sequence', 'of', 'a', 'gene,', 'which', 'can', 'result', 'in', 'altered', 'protein', 'production', 'or', 'function.']\n",
            "1436\n"
          ]
        }
      ]
    },
    {
      "cell_type": "code",
      "source": [
        "word_counts = Counter(data)                                            # create a Counter for our data\n",
        "uniq_words = sorted(word_counts, key=word_counts.get, reverse=True)    # find all unique words\n",
        "print(uniq_words)                                                      # print the list of unique words\n",
        "print(len(word_counts))                "
      ],
      "metadata": {
        "colab": {
          "base_uri": "https://localhost:8080/"
        },
        "id": "1an-nxKVy63-",
        "outputId": "86f63063-e65f-42bd-b0a7-7975abbba14d"
      },
      "execution_count": null,
      "outputs": [
        {
          "output_type": "stream",
          "name": "stdout",
          "text": [
            "['is', 'a', 'the', 'of', 'What', 'and', 'that', 'A', 'an', 'between', 'difference', 'while', 'or', 'in', 'to', 'The', 'for', 'chemical', 'can', 'as', 'substance', 'which', 'by', 'other', 'such', 'process', 'theory', 'black', 'reaction', 'An', 'up', 'heat', 'hypothesis', 'be', 'on', 'organism', 'its', 'through', 'star', 'formula', 'calculating', 'space', 'DNA', 'where', 'greenhouse', 'explanation', 'has', 'into', 'rock', 'subatomic', 'particle', 'supernova', 'change', 'physical', 'solute', 'force', 'atom', 'two', 'more', 'with', 'made', 'hole?', 'hole', 'region', 'gravitational', 'pull', 'so', 'strong', 'nothing,', 'light,', 'water', \"Earth's\", 'atmosphere', 'theory?', 'scientific', 'phenomenon', 'gene', 'smaller', 'than', 'bacteria', 'energy', 'involves', 'form', 'out', 'number', 'neutron', 'different', 'property', 'speed', 'light', '=', 'mass', 'unit', 'combination', 'photosynthesis?', 'Photosynthesis', 'some', 'organisms', 'structure', 'building', 'from', 'effect?', 'effect', 'certain', 'carbon', 'vapor,', 'Big', 'Bang', 'been', 'tested,', 'symbol', 'contains', 'virus', 'cell', 'kinetic', 'object', 'comet', 'refers', 'conditions', 'specific', 'not', 'even', 'escape.', 'tectonic', 'around', 'nucleus', 'atomic', 'Higgs', 'explosion', 'occurs', 'when', 'runs', 'fuel', 'magnetic', 'autotroph', 'without', 'substance,', 'only', 'changes', 'nucleus.', 'solvent', 'combustion', 'reaction?', 'primary', 'secondary', 'consumer', 'feeds', 'exothermic', 'endothermic', 'supersaturated', 'solution', 'Bohr', 'model', 'acid', 'protons,', 'massive', 'transfer', 'characteristic', 'observed', 'sedimentary', 'light?', 'approximately', '299,792,458', 'meters', 'per', 'second.', 'force?', 'x', 'acceleration.', 'molecule?', 'smallest', 'matter', 'retains', 'properties', 'element,', 'molecule', 'atoms', 'held', 'together', 'covalent', 'bonds.', 'green', 'plants', 'use', 'sunlight', 'synthesize', 'foods', 'help', 'chlorophyll', 'pigments.', 'relativity?', 'relativity', 'describes', 'relationship', 'time,', 'how', 'gravity', 'affects', 'this', 'relationship.', 'DNA?', 'double', 'helix', 'nucleotides,', 'are', 'blocks', 'DNA.', 'including', 'escape', 'it.', 'gases,', 'dioxide', 'trap', 'warm', 'planet.', 'origin', 'universe,', 'suggests', 'universe', 'began', 'singularity', 'expanding', 'ever', 'since.', 'educated', 'guess', 'prediction', 'well-substantiated', 'based', 'large', 'body', 'evidence.', 'water?', 'H2O.', 'gene?', 'segment', 'instructions', 'protein.', 'bacteria?', 'requires', 'host', 'replicate,', 'single-celled', 'reproduce', 'own.', 'plants,', 'algae,', 'convert', 'energy.', 'energy?', 'KE', '1/2', 'mv^2,', 'm', 'v', 'velocity.', 'neuron?', 'neuron', 'specialized', 'transmits', 'information', 'electrical', 'signals', 'nervous', 'system.', 'asteroid?', 'ice,', 'dust,', 'rock,', 'asteroid', 'metal.', 'method?', 'method', 'systematic', 'approach', 'investigating', 'natural', 'phenomena', 'observation,', 'testing,', 'data', 'analysis.', 'proposed', 'well-supported', 'extensively', 'tested', 'generally', 'accepted', 'true.', 'warming', 'surface', 'lower', 'caused', 'trapping', 'sun', 'gases', 'dioxide,', 'methane.', 'weather', 'climate?', 'Weather', 'short-term', 'atmosphere,', 'climate', 'long-term', 'average', 'region.', 'plate?', 'plate', 'massive,', 'irregularly', 'shaped', 'slab', 'solid', 'makes', 'crust', 'moves', \"planet's\", 'mantle.', 'proton?', 'proton', 'positive', 'electric', 'charge', 'found', 'atom.', 'fusion', 'fission?', 'Fusion', 'combining', 'nuclei', 'heavier', 'nucleus,', 'fission', 'splitting', 'nuclei.', 'boson?', 'boson', 'thought', 'give', 'particles', 'mass.', 'collapses,', 'mole?', 'In', 'chemistry,', 'mole', 'measurement', 'represents', 'atoms,', 'molecules,', 'particles.', 'pulsar?', 'pulsar', 'highly', 'magnetized,', 'rotating', 'emits', 'beams', 'electromagnetic', 'radiation', 'poles.', 'heterotroph?', 'produce', 'own', 'food', 'photosynthesis', 'chemosynthesis,', 'heterotroph', 'must', 'consume', 'obtain', 'food.', 'catalyst?', 'catalyst', 'speeds', 'being', 'consumed', 'itself.', 'change?', 'transformation', 'new', 'appearance', 'state', 'substance.', 'magnet?', 'magnet', 'material', 'produces', 'field,', 'attracts', 'repels', 'materials,', 'iron', 'steel.', 'isotope?', 'isotope', 'element', 'same', 'protons', 'but', 'neutrons', 'solvent?', 'dissolved', 'create', 'solution.', 'dissolved.', 'rapid', 'oxygen,', 'resulting', 'release', 'light.', 'consumer?', 'producers,', 'consumers.', 'releases', 'heat,', 'absorbs', 'heat.', 'solution?', 'it', 'should', 'able', 'dissolve', 'under', 'normal', 'circumstances,', 'due', 'temperature,', 'pressure,', 'factors.', 'model?', 'depicts', 'electrons', 'circular', 'orbits', 'base?', 'donates', 'base', 'accepts', 'protons.', 'centrifuge?', 'centrifuge', 'machine', 'uses', 'centrifugal', 'separate', 'materials', 'densities,', 'blood', 'samples.', 'star?', 'fuel,', 'collapsed', 'core', 'gone', 'supernova.', 'particle?', 'atom,', 'neutrons,', 'electrons.', 'conduction', 'convection?', 'Conduction', 'direct', 'contact,', 'convection', 'movement', 'fluids,', 'air', 'water.', 'property?', 'measured', 'changing', 'reaction.', 'rock?', 'type', 'formed', 'accumulation', 'cementation', 'sediment,', 'sand,', 'mud,', 'fossils.', 'mutation?', 'mutation', 'sequence', 'gene,', 'result', 'altered', 'protein', 'production', 'function.']\n",
            "493\n"
          ]
        }
      ]
    },
    {
      "cell_type": "code",
      "source": [
        "word_to_index = {word: index for index, word in enumerate(uniq_words)} # create a word-to-index dictionary\n",
        "index_to_word = {index: word for index, word in enumerate(uniq_words)} # create an index-to-word dictionary\n",
        "\n",
        "words_indexes = [word_to_index[word] for word in data]                 # find the indices in all words in the dataset\n",
        "print(words_indexes)      "
      ],
      "metadata": {
        "colab": {
          "base_uri": "https://localhost:8080/"
        },
        "id": "NK9D72nMzCtE",
        "outputId": "f72116c3-cfd5-4b8a-a736-52143fa821de"
      },
      "execution_count": null,
      "outputs": [
        {
          "output_type": "stream",
          "name": "stdout",
          "text": [
            "[4, 0, 2, 88, 3, 160, 15, 88, 3, 89, 0, 161, 162, 163, 164, 165, 4, 0, 2, 39, 16, 40, 166, 15, 39, 16, 40, 55, 0, 55, 90, 91, 167, 168, 4, 0, 2, 10, 9, 8, 56, 5, 1, 169, 29, 56, 0, 2, 170, 92, 3, 171, 6, 172, 2, 173, 3, 8, 174, 11, 1, 175, 0, 1, 93, 3, 57, 12, 58, 176, 177, 178, 22, 179, 180, 4, 0, 2, 25, 3, 94, 95, 0, 2, 25, 22, 21, 181, 182, 5, 96, 23, 97, 183, 184, 14, 185, 186, 59, 2, 187, 3, 188, 5, 23, 189, 4, 0, 2, 26, 3, 190, 15, 26, 3, 191, 0, 1, 26, 6, 192, 2, 193, 9, 41, 5, 194, 5, 195, 196, 197, 198, 199, 4, 0, 2, 98, 3, 200, 42, 0, 1, 201, 202, 98, 60, 30, 3, 203, 21, 204, 2, 99, 205, 3, 206, 4, 0, 1, 27, 61, 7, 27, 62, 0, 1, 63, 13, 41, 43, 2, 64, 65, 0, 66, 67, 6, 68, 207, 69, 18, 208, 100, 209, 4, 0, 2, 44, 101, 15, 44, 102, 0, 1, 25, 22, 21, 103, 210, 24, 19, 104, 211, 5, 70, 105, 212, 31, 13, 2, 71, 72, 5, 213, 2, 214, 4, 0, 2, 106, 107, 73, 15, 106, 107, 26, 0, 1, 74, 45, 16, 2, 215, 3, 2, 216, 21, 217, 6, 2, 218, 219, 19, 1, 220, 5, 46, 108, 221, 222, 223, 4, 0, 2, 10, 9, 1, 32, 5, 1, 73, 7, 32, 0, 8, 224, 225, 12, 226, 6, 18, 33, 109, 11, 1, 26, 0, 1, 227, 45, 16, 1, 75, 228, 34, 1, 229, 230, 3, 231, 4, 0, 2, 17, 110, 16, 232, 15, 17, 110, 16, 70, 0, 233, 4, 0, 1, 234, 7, 76, 0, 1, 235, 3, 42, 6, 111, 2, 236, 16, 99, 1, 237, 4, 0, 2, 10, 9, 1, 112, 5, 1, 238, 7, 112, 0, 77, 78, 1, 79, 5, 239, 1, 240, 113, 14, 241, 11, 1, 79, 0, 1, 242, 35, 6, 18, 243, 34, 36, 244, 4, 0, 94, 95, 0, 2, 25, 22, 21, 245, 246, 5, 96, 79, 247, 89, 80, 47, 17, 248, 4, 0, 2, 39, 16, 40, 114, 249, 15, 39, 16, 40, 114, 80, 0, 250, 90, 251, 252, 43, 253, 0, 2, 91, 3, 2, 115, 5, 254, 0, 36, 255, 4, 0, 1, 256, 7, 257, 0, 1, 258, 113, 6, 259, 260, 37, 261, 5, 17, 262, 13, 2, 263, 264, 4, 0, 2, 10, 9, 1, 116, 5, 8, 265, 7, 116, 0, 60, 30, 3, 266, 267, 5, 268, 11, 8, 269, 0, 60, 30, 3, 48, 5, 270, 4, 0, 2, 74, 271, 15, 74, 272, 0, 1, 273, 274, 14, 275, 276, 277, 6, 81, 278, 32, 279, 5, 280, 281, 4, 0, 2, 10, 9, 1, 32, 5, 1, 73, 7, 32, 0, 1, 282, 45, 16, 1, 75, 6, 18, 33, 109, 11, 1, 26, 0, 1, 283, 45, 16, 1, 75, 6, 46, 108, 284, 285, 5, 0, 286, 287, 19, 288, 4, 0, 2, 44, 101, 15, 44, 102, 0, 2, 289, 3, 2, 71, 290, 5, 291, 72, 292, 22, 2, 293, 3, 31, 100, 2, 294, 22, 295, 24, 19, 104, 296, 70, 105, 5, 297, 4, 0, 2, 10, 9, 298, 5, 299, 300, 117, 14, 2, 301, 118, 3, 2, 302, 11, 303, 117, 14, 2, 304, 305, 118, 3, 2, 72, 13, 1, 119, 306, 4, 0, 1, 27, 61, 7, 27, 62, 0, 1, 63, 3, 41, 43, 2, 64, 65, 0, 66, 67, 6, 68, 120, 121, 69, 18, 122, 4, 0, 1, 123, 307, 7, 123, 308, 0, 1, 309, 310, 311, 312, 3, 313, 48, 6, 314, 30, 2, 71, 315, 5, 316, 124, 34, 2, 317, 318, 4, 0, 1, 319, 7, 320, 0, 1, 49, 50, 59, 1, 321, 322, 323, 6, 0, 324, 13, 2, 125, 3, 8, 325, 4, 0, 2, 10, 9, 326, 5, 327, 328, 0, 2, 25, 3, 329, 57, 126, 330, 14, 82, 1, 331, 332, 11, 333, 0, 2, 25, 3, 334, 8, 126, 125, 47, 57, 12, 58, 77, 335, 4, 0, 2, 127, 336, 15, 127, 337, 0, 1, 49, 50, 6, 0, 338, 14, 339, 23, 340, 341, 4, 0, 2, 10, 9, 1, 51, 5, 1, 27, 61, 7, 51, 0, 8, 128, 6, 129, 130, 1, 38, 131, 83, 3, 132, 5, 342, 11, 1, 27, 62, 0, 1, 63, 3, 41, 43, 2, 64, 65, 0, 66, 67, 6, 68, 120, 121, 69, 18, 122, 4, 0, 1, 343, 344, 345, 1, 346, 0, 1, 92, 3, 347, 6, 348, 1, 119, 84, 3, 349, 350, 12, 23, 351, 4, 0, 1, 352, 7, 353, 0, 1, 354, 355, 356, 85, 38, 6, 357, 358, 3, 359, 360, 83, 3, 36, 133, 361, 4, 0, 2, 10, 9, 8, 134, 5, 1, 362, 29, 134, 0, 8, 35, 6, 18, 363, 36, 364, 365, 37, 366, 12, 367, 11, 1, 368, 0, 8, 35, 6, 369, 370, 23, 97, 14, 371, 372, 4, 0, 1, 373, 7, 374, 0, 1, 20, 6, 375, 30, 1, 17, 28, 135, 376, 377, 13, 2, 28, 378, 4, 0, 2, 10, 9, 1, 17, 52, 5, 1, 53, 379, 7, 17, 52, 81, 1, 380, 3, 2, 20, 47, 1, 381, 136, 11, 1, 53, 52, 137, 138, 2, 382, 12, 383, 3, 2, 384, 4, 0, 1, 385, 7, 386, 0, 1, 387, 12, 115, 6, 388, 1, 133, 389, 21, 390, 12, 391, 103, 392, 24, 19, 393, 12, 394, 4, 0, 8, 395, 29, 396, 0, 1, 82, 3, 8, 397, 6, 46, 2, 398, 84, 3, 399, 400, 1, 86, 84, 3, 401, 13, 36, 139, 4, 0, 2, 10, 9, 1, 54, 5, 1, 402, 7, 54, 0, 1, 20, 6, 0, 403, 13, 1, 140, 14, 404, 1, 405, 7, 140, 0, 2, 20, 13, 21, 2, 54, 0, 406, 4, 0, 1, 141, 142, 7, 141, 28, 0, 1, 17, 28, 6, 81, 2, 407, 93, 3, 1, 132, 59, 408, 409, 13, 2, 410, 3, 80, 13, 2, 82, 3, 31, 5, 411, 4, 0, 2, 10, 9, 1, 143, 5, 1, 144, 412, 7, 143, 145, 0, 8, 35, 6, 146, 34, 413, 11, 1, 144, 145, 0, 8, 35, 6, 146, 34, 23, 414, 4, 0, 2, 10, 9, 8, 147, 5, 8, 148, 142, 29, 147, 28, 415, 416, 11, 8, 148, 28, 417, 418, 4, 0, 1, 149, 419, 7, 149, 150, 0, 1, 150, 6, 111, 58, 54, 78, 420, 421, 33, 422, 14, 423, 424, 425, 426, 427, 14, 138, 13, 428, 429, 12, 23, 430, 4, 0, 2, 151, 431, 15, 151, 152, 0, 1, 152, 3, 2, 56, 6, 432, 433, 13, 434, 435, 124, 2, 139, 4, 0, 2, 10, 9, 8, 153, 5, 1, 436, 29, 153, 0, 1, 20, 6, 437, 154, 11, 1, 438, 0, 1, 20, 6, 439, 440, 4, 0, 1, 441, 7, 442, 0, 1, 443, 6, 444, 445, 55, 14, 446, 447, 3, 86, 448, 24, 19, 449, 12, 42, 450, 4, 0, 2, 10, 9, 1, 51, 5, 1, 85, 451, 7, 51, 0, 1, 155, 128, 6, 129, 130, 1, 38, 131, 83, 3, 452, 11, 1, 85, 38, 0, 2, 453, 454, 3, 1, 155, 38, 6, 46, 455, 456, 4, 0, 1, 49, 457, 7, 49, 50, 0, 1, 50, 6, 0, 77, 78, 8, 458, 24, 19, 154, 459, 5, 460, 4, 0, 2, 10, 9, 461, 5, 462, 463, 0, 2, 156, 3, 31, 37, 464, 465, 11, 466, 0, 2, 156, 3, 31, 37, 2, 467, 3, 468, 24, 19, 469, 12, 470, 4, 0, 2, 10, 9, 1, 53, 87, 5, 1, 17, 471, 7, 53, 87, 0, 1, 157, 3, 1, 20, 6, 18, 33, 158, 12, 472, 135, 473, 2, 20, 47, 1, 86, 136, 11, 1, 17, 87, 0, 1, 157, 3, 1, 20, 6, 18, 137, 33, 158, 37, 1, 17, 474, 4, 0, 1, 159, 475, 7, 159, 48, 0, 1, 476, 3, 48, 6, 0, 477, 22, 2, 478, 5, 479, 3, 480, 24, 19, 481, 482, 12, 483, 4, 0, 1, 76, 484, 7, 76, 485, 0, 1, 52, 13, 2, 42, 486, 3, 1, 487, 21, 18, 488, 13, 489, 490, 491, 12, 492]\n"
          ]
        }
      ]
    },
    {
      "cell_type": "code",
      "source": [
        "sequence_length= 4\n",
        "index = 0\n",
        "tensor_in = torch.tensor(words_indexes[index:index+sequence_length])\n",
        "tensor_out = torch.tensor(words_indexes[index+1:index+sequence_length+1])\n",
        "\n",
        "print(tensor_in)\n",
        "print(tensor_out)"
      ],
      "metadata": {
        "colab": {
          "base_uri": "https://localhost:8080/"
        },
        "id": "UrKhoUqczHr8",
        "outputId": "9357c357-4ca5-4f9d-f6b2-cb4b8b1541ce"
      },
      "execution_count": null,
      "outputs": [
        {
          "output_type": "stream",
          "name": "stdout",
          "text": [
            "tensor([ 4,  0,  2, 88])\n",
            "tensor([ 0,  2, 88,  3])\n"
          ]
        }
      ]
    },
    {
      "cell_type": "code",
      "source": [
        "class WordsTensorDataset(TensorDataset):\n",
        "    def __init__(self, data_list, sequence_length=4):\n",
        "        \"\"\"\n",
        "        Args:\n",
        "            data_list (dictionary): A list of all the words in the file\n",
        "            sequence_length: the number of words in each input sample, and output sample\n",
        "        \"\"\"\n",
        "        self.sequence_length = sequence_length\n",
        "        self.data_list = data_list\n",
        "        self.unique_words = self.get_unique_words()\n",
        "\n",
        "        self.word_to_idx = {word: idx for idx, word in enumerate(self.unique_words)}  # create a dictionary of mappings of words to indices\n",
        "        self.idx_to_word = {idx: word for idx, word in enumerate(self.unique_words)}  # create a dictionary of mappings of indices to words     \n",
        "\n",
        "        self.words_idxs = [self.word_to_idx[word] for word in data]                   # return a list of the dat with the words represented with their indices\n",
        "\n",
        "    def get_unique_words(self):\n",
        "        word_counts = Counter(self.data_list)\n",
        "        return sorted(word_counts, key=word_counts.get, reverse=True)                 # return a list of the unique words sorted in ascending order\n",
        "\n",
        "    def __len__(self):\n",
        "        return len(self.words_idxs) - self.sequence_length\n",
        "\n",
        "    def __getitem__(self, idx):\n",
        "\n",
        "        sample_input = torch.tensor(self.words_idxs[idx:idx+self.sequence_length])       # get a sample input sequence\n",
        "        sample_output = torch.tensor(self.words_idxs[idx+1:idx+self.sequence_length+1])  # get a sample output sequence\n",
        "\n",
        "        return sample_input, sample_output"
      ],
      "metadata": {
        "id": "eK0SOBh-yRwE"
      },
      "execution_count": null,
      "outputs": []
    },
    {
      "cell_type": "code",
      "source": [
        "words_dataset = WordsTensorDataset(data, sequence_length=5)\n",
        "words_dataloader = DataLoader(words_dataset, batch_size=5, shuffle=False)\n",
        "\n",
        "next(iter(words_dataloader))"
      ],
      "metadata": {
        "colab": {
          "base_uri": "https://localhost:8080/"
        },
        "id": "puIcfKPizO2o",
        "outputId": "c4497f61-0ea3-4418-8512-fbc2b9611d22"
      },
      "execution_count": null,
      "outputs": [
        {
          "output_type": "execute_result",
          "data": {
            "text/plain": [
              "[tensor([[  4,   0,   2,  88,   3],\n",
              "         [  0,   2,  88,   3, 160],\n",
              "         [  2,  88,   3, 160,  15],\n",
              "         [ 88,   3, 160,  15,  88],\n",
              "         [  3, 160,  15,  88,   3]]), tensor([[  0,   2,  88,   3, 160],\n",
              "         [  2,  88,   3, 160,  15],\n",
              "         [ 88,   3, 160,  15,  88],\n",
              "         [  3, 160,  15,  88,   3],\n",
              "         [160,  15,  88,   3,  89]])]"
            ]
          },
          "metadata": {},
          "execution_count": 85
        }
      ]
    },
    {
      "cell_type": "code",
      "source": [
        "class RNNCell(nn.Module):\n",
        "\n",
        "    def __init__(self, input_size, hidden_size, bias=True, activation=\"tanh\"):\n",
        "        super(RNNCell, self).__init__()\n",
        "        \n",
        "        self.input_size = input_size\n",
        "        self.hidden_size = hidden_size\n",
        "        self.bias = bias\n",
        "\n",
        "        # select appropriate activation function\n",
        "        if activation == 'tanh':\n",
        "            self.act = nn.Tanh()\n",
        "        elif activation == 'ReLU':\n",
        "            self.act = nn.ReLU()\n",
        "\n",
        "        self.i2h = nn.Linear(input_size, hidden_size, bias=bias)    # create linear layer from input to hidden state\n",
        "        self.h2h = nn.Linear(hidden_size, hidden_size, bias=bias)   # create linear layer from previous to current hidden state\n",
        "\n",
        "        self.reset_parameters()                                     # initialise the parameters\n",
        "\n",
        "    def reset_parameters(self):\n",
        "        std = 1.0 / np.sqrt(self.hidden_size)\n",
        "\n",
        "        for w in self.parameters():\n",
        "            w.data.uniform_(-std, std)\n",
        "\n",
        "    def forward(self, input, h):\n",
        "        input = self.i2h(input)                                     # map from input to hidden state space\n",
        "        h = self.h2h(h)                                             # map from previous to current hidden state space\n",
        "        h = self.act(input + h)                                     # calculate new hidden state by applying activation\n",
        "\n",
        "        return h"
      ],
      "metadata": {
        "id": "_fjHkRbUzViq"
      },
      "execution_count": null,
      "outputs": []
    },
    {
      "cell_type": "code",
      "source": [
        "class RNN(nn.Module):\n",
        "\n",
        "    def __init__(self, input_size, hidden_size, num_layers, output_size, bias=False, activation='tanh'):\n",
        "        super(RNN, self).__init__()\n",
        "        \n",
        "        self.input_size = input_size\n",
        "        self.hidden_size = hidden_size\n",
        "        self.output_size = output_size\n",
        "        self.num_layers = num_layers\n",
        "        self.bias = bias\n",
        "\n",
        "        self.rnn_cell_list = nn.ModuleList()                         # create a list of modules\n",
        "\n",
        "        # create each layer in the network\n",
        "        # take care when defining the input size of the first vs later layers\n",
        "        for l in range(self.num_layers):\n",
        "            self.rnn_cell_list.append(RNNCell(self.input_size if l == 0 else self.hidden_size,\n",
        "                                                self.hidden_size,\n",
        "                                                self.bias,\n",
        "                                                activation))\n",
        "\n",
        "        self.h2o = nn.Linear(self.hidden_size, self.output_size)     # create a final linear layer from hidden state to network output\n",
        "    \n",
        "    def init_hidden(self,  batch_size=1):\n",
        "        # initialise the hidden state\n",
        "        return torch.zeros(self.num_layers, batch_size, self.hidden_size, requires_grad=False).to(device)\n",
        "\n",
        "    def forward(self, input, h0):\n",
        "        # Input of shape (batch_size, seqence length, input_size)\n",
        "        # Output of shape (batch_size, output_size)\n",
        "\n",
        "        outs = []\n",
        "        hidden = []\n",
        "        for layer in range(self.num_layers):\n",
        "            hidden.append(h0[layer, :, :])\n",
        "\n",
        "        batch_size = input.size(0)\n",
        "        step_size = input.size(1)\n",
        "\n",
        "        # iterate over all elements in the sequence\n",
        "        for t in range(step_size):\n",
        "            # iterate over each layer \n",
        "            for layer in range(self.num_layers):\n",
        "                # apply each layer\n",
        "                # take care to apply the layer to the input or the\n",
        "                # previous hidden state depending on the layer number\n",
        "                if layer == 0:\n",
        "                    hidden_l = self.rnn_cell_list[layer](input[:, t, :], hidden[layer])\n",
        "                else:\n",
        "                    hidden_l = self.rnn_cell_list[layer](hidden[layer-1], hidden[layer])\n",
        "\n",
        "                # store the hidden state of each layer\n",
        "                hidden[layer] = hidden_l\n",
        "\n",
        "            # the hidden state of the last layer needs to be recorded\n",
        "            # to be used in the output\n",
        "            outs.append(hidden_l)\n",
        "\n",
        "        # calculate output for each element in the sequence\n",
        "        out = torch.stack([self.h2o(out) for out in outs], dim=1)\n",
        "\n",
        "        return out"
      ],
      "metadata": {
        "id": "cuoEdGFMzaLC"
      },
      "execution_count": null,
      "outputs": []
    },
    {
      "cell_type": "code",
      "source": [
        "class RNN_GEN(nn.Module):\n",
        "\n",
        "    def __init__(self, input_size, embedding_dim, hidden_size, num_layers, num_unique_words):\n",
        "        super(RNN_GEN, self).__init__()\n",
        "\n",
        "        self.input_size = input_size\n",
        "        self.embedding_dim = embedding_dim\n",
        "        self.hidden_size = hidden_size\n",
        "        self.num_layers = num_layers\n",
        "        self.num_unique_words = num_unique_words\n",
        "        \n",
        "        self.embedding = nn.Embedding(self.num_unique_words, self.embedding_dim)                   # add a nn.Embedding\n",
        "        self.rnn = RNN(self.input_size, self.hidden_size, self.num_layers, self.num_unique_words,  # add our RNN\n",
        "                       bias=False, activation='tanh')\n",
        "\n",
        "    def forward(self, x):\n",
        "        batch_size = x.size(0)\n",
        "        hidden = self.rnn.init_hidden(batch_size)      # initialise hidden state\n",
        "        \n",
        "        embedded = self.embedding(x)                   # store the word embeddings\n",
        "        output = self.rnn(embedded, hidden)            # apply the RNN\n",
        "        \n",
        "        return output\n",
        "\n",
        "def count_trainable_parameters(model):\n",
        "    return sum([p.numel() for p in model.parameters() if p.requires_grad])"
      ],
      "metadata": {
        "id": "XoUCblpXzcfL"
      },
      "execution_count": null,
      "outputs": []
    },
    {
      "cell_type": "code",
      "source": [
        "def train_rnn_gen(model, optimizer, criterion, dataloader):\n",
        "    model.train()    # set model to train mode\n",
        "    train_loss = 0   # initialise the loss\n",
        "    \n",
        "    for i, (x, y) in enumerate(dataloader):  # loop over dataset\n",
        "        \n",
        "        x, y = x.to(device), y.to(device)    # send data to device\n",
        "        optimizer.zero_grad()                # reset the gradients\n",
        "        y_pred = model(x)                    # get output\n",
        "        \n",
        "        loss = criterion(y_pred.permute(0,2,1), y)  # compute the loss (change shape as crossentropy takes input as batch_size, number of classes, d1, d2, ...)\n",
        "        train_loss += loss                   \n",
        "\n",
        "        loss.backward()                      # backpropagate\n",
        "        optimizer.step()                     # update weights\n",
        "\n",
        "    return train_loss/len(dataloader)\n",
        "\n",
        "\n",
        "def predict_rnn_gen(dataset, model, text, next_words=100):\n",
        "    model.eval()  # set model to evaluation mode\n",
        "\n",
        "    words = text.split(' ')\n",
        "\n",
        "    for i in range(next_words):  # loop over words\n",
        "        x = torch.tensor([[dataset.word_to_idx[word] for word in words[i:]]]).to(device)  # take word from dataset and send to device\n",
        "        y_pred = model(x)                                                                 # compute output and hidden state\n",
        "       \n",
        "        last_word_logits = y_pred[0][-1]                                                  # take last output\n",
        "\n",
        "        p = torch.nn.functional.softmax(last_word_logits, dim=0).detach().cpu().numpy()   # obtain probability vector for last output\n",
        "        word_idx = np.random.choice(len(last_word_logits), p=p)                           # sample probability vector to get index in dataset \n",
        "\n",
        "        words.append(dataset.idx_to_word[word_idx])                                       # get word corresponding to dataset\n",
        "\n",
        "    return ' '.join(words)"
      ],
      "metadata": {
        "id": "Rljv1QTZzhBp"
      },
      "execution_count": null,
      "outputs": []
    },
    {
      "cell_type": "code",
      "source": [
        "device = device = torch.device(\"cuda\" if torch.cuda.is_available() else \"cpu\") \n",
        "\n",
        "input_size = 256\n",
        "n_hidden = 256                         \n",
        "n_layers = 2\n",
        "embedding_dim = input_size\n",
        "n_unique_words = len(words_dataset.unique_words)\n",
        "batch_size = 5\n",
        "sequence_length = 5\n",
        "\n",
        "lr = 5e-3\n",
        "momentum = 0.5\n",
        "n_epochs = 10\n",
        "\n",
        "rnn_gen = RNN_GEN(input_size, embedding_dim, n_hidden, n_layers, n_unique_words).to(device)\n",
        "print(f'The model has {count_trainable_parameters(rnn_gen):,} trainable parameters')\n",
        "\n",
        "criterion = nn.CrossEntropyLoss()\n",
        "optimizer = torch.optim.Adam(rnn_gen.parameters(), lr=lr)\n",
        "\n",
        "words_dataset = WordsTensorDataset(data, sequence_length=sequence_length)\n",
        "words_dataloader = DataLoader(words_dataset, batch_size=batch_size, shuffle=False)   \n",
        "\n",
        "# Keep track of losses for plotting\n",
        "liveloss = PlotLosses()\n",
        "for epoch in range(n_epochs):\n",
        "    logs = {}\n",
        "    train_loss = train_rnn_gen(rnn_gen, optimizer, criterion, words_dataloader)\n",
        "\n",
        "    print(epoch,train_loss)\n",
        "\n",
        "    logs['' + 'log loss'] = train_loss.item()\n",
        "    liveloss.update(logs)\n",
        "    liveloss.draw()"
      ],
      "metadata": {
        "colab": {
          "base_uri": "https://localhost:8080/",
          "height": 621
        },
        "id": "ODJ8tUdOziz7",
        "outputId": "8623ded3-763c-40d4-9945-03deb2d4b4aa"
      },
      "execution_count": null,
      "outputs": [
        {
          "output_type": "display_data",
          "data": {
            "text/plain": [
              "<Figure size 864x576 with 2 Axes>"
            ],
            "image/png": "[encoded data removed]"
          },
          "metadata": {
            "needs_background": "light"
          }
        },
        {
          "output_type": "stream",
          "name": "stdout",
          "text": [
            "log loss\n",
            "\tlog loss         \t (min:    2.159, max:    5.773, cur:    2.159)\n"
          ]
        }
      ]
    },
    {
      "cell_type": "code",
      "source": [
        "print(predict_rnn_gen(words_dataset, rnn_gen, text=\"What is the speed of force?\", next_words=19))"
      ],
      "metadata": {
        "colab": {
          "base_uri": "https://localhost:8080/"
        },
        "id": "riuWy-3Kzlnm",
        "outputId": "ddee408e-2df2-439c-e013-3407e83ed11a"
      },
      "execution_count": null,
      "outputs": [
        {
          "output_type": "stream",
          "name": "stdout",
          "text": [
            "What is the speed of force? The Bohr model is a model of a substance that can only be observed through a chemical reaction. What is a sedimentary rock? A sedimentary rock is a type of rock that is formed by the accumulation and cementation of sediment, such as sand, mud, or fossils. What is a\n"
          ]
        }
      ]
    }
  ]
}